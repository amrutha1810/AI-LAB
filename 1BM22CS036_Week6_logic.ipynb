{
  "nbformat": 4,
  "nbformat_minor": 0,
  "metadata": {
    "colab": {
      "provenance": [],
      "authorship_tag": "ABX9TyPjgkFl0i5sBoZ47XtAXL/n",
      "include_colab_link": true
    },
    "kernelspec": {
      "name": "python3",
      "display_name": "Python 3"
    },
    "language_info": {
      "name": "python"
    }
  },
  "cells": [
    {
      "cell_type": "markdown",
      "metadata": {
        "id": "view-in-github",
        "colab_type": "text"
      },
      "source": [
        "<a href=\"https://colab.research.google.com/github/amrutha1810/AI-LAB/blob/main/1BM22CS036_Week6_logic.ipynb\" target=\"_parent\"><img src=\"https://colab.research.google.com/assets/colab-badge.svg\" alt=\"Open In Colab\"/></a>"
      ]
    },
    {
      "cell_type": "code",
      "execution_count": 10,
      "metadata": {
        "colab": {
          "base_uri": "https://localhost:8080/"
        },
        "id": "4UwRIC-zofBg",
        "outputId": "b4819c28-4a17-44fc-bce0-8505aa7a8231"
      },
      "outputs": [
        {
          "output_type": "stream",
          "name": "stdout",
          "text": [
            "x    y    z    Condition1 (¬y ∨ x) Condition2 (¬x ∨ ¬y)Condition3 (y ∨ z)  KB (cond1 ∧ cond2 ∧ cond3)\n",
            "---------------------------------------------------------------------------------------------------------\n",
            "1    1    1    1                   0                   1                   False\n",
            "1    1    0    1                   0                   1                   False\n",
            "1    0    1    1                   1                   1                   True\n",
            "1    0    0    1                   1                   0                   False\n",
            "0    1    1    0                   1                   1                   False\n",
            "0    1    0    0                   1                   1                   False\n",
            "0    0    1    1                   1                   1                   True\n",
            "0    0    0    1                   1                   0                   False\n",
            "name : amrutha ravisanna\n",
            "USN: 1BM22CS036\n"
          ]
        }
      ],
      "source": [
        "import itertools\n",
        "\n",
        "\n",
        "def condition1(x, y):\n",
        "    return (not y) or x  # ¬y ∨ x\n",
        "\n",
        "def condition2(x, y):\n",
        "    return (not x) or (not y)  # ¬x ∨ ¬y\n",
        "\n",
        "def condition3(y, z):\n",
        "    return y or z  # y ∨ z\n",
        "\n",
        "\n",
        "def evaluate_kb(x, y, z):\n",
        "    return condition1(x, y) and condition2(x, y) and condition3(y, z)\n",
        "\n",
        "\n",
        "def create_truth_table():\n",
        "    variables = ['x', 'y', 'z']\n",
        "    table_data = []\n",
        "\n",
        "\n",
        "    for x, y, z in itertools.product([True, False], repeat=3):\n",
        "\n",
        "        c1 = condition1(x, y)\n",
        "        c2 = condition2(x, y)\n",
        "        c3 = condition3(y, z)\n",
        "        kb_result = evaluate_kb(x, y, z)\n",
        "\n",
        "\n",
        "        table_data.append([x, y, z, c1, c2, c3, kb_result])\n",
        "\n",
        "    return table_data\n",
        "\n",
        "\n",
        "def display_truth_table():\n",
        "    table_data = create_truth_table()\n",
        "    print(f\"{'x':<5}{'y':<5}{'z':<5}{'Condition1 (¬y ∨ x)':<20}{'Condition2 (¬x ∨ ¬y)':<20}{'Condition3 (y ∨ z)':<20}{'KB (cond1 ∧ cond2 ∧ cond3)'}\")\n",
        "    print(\"-\" * 105)\n",
        "    for row in table_data:\n",
        "        print(f\"{row[0]:<5}{row[1]:<5}{row[2]:<5}{row[3]:<20}{row[4]:<20}{row[5]:<20}{row[6]}\")\n",
        "\n",
        "display_truth_table()\n",
        "print(\"name : amrutha ravisanna\")\n",
        "print(\"USN: 1BM22CS036\")\n"
      ]
    }
  ]
}