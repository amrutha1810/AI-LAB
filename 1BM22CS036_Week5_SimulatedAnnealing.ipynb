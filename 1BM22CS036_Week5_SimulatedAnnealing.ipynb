{
  "nbformat": 4,
  "nbformat_minor": 0,
  "metadata": {
    "colab": {
      "provenance": [],
      "authorship_tag": "ABX9TyNSEZJ8q5Rb6d45W4YG5ICz",
      "include_colab_link": true
    },
    "kernelspec": {
      "name": "python3",
      "display_name": "Python 3"
    },
    "language_info": {
      "name": "python"
    }
  },
  "cells": [
    {
      "cell_type": "markdown",
      "metadata": {
        "id": "view-in-github",
        "colab_type": "text"
      },
      "source": [
        "<a href=\"https://colab.research.google.com/github/amrutha1810/AI-LAB/blob/main/1BM22CS036_Week5_SimulatedAnnealing.ipynb\" target=\"_parent\"><img src=\"https://colab.research.google.com/assets/colab-badge.svg\" alt=\"Open In Colab\"/></a>"
      ]
    },
    {
      "cell_type": "code",
      "execution_count": 3,
      "metadata": {
        "colab": {
          "base_uri": "https://localhost:8080/"
        },
        "id": "lgqMPlGnoqY1",
        "outputId": "367f9c64-03e6-47c6-cfe6-72837ffa86de"
      },
      "outputs": [
        {
          "output_type": "stream",
          "name": "stdout",
          "text": [
            "Final State (Positions of Queens in each column): [5, 2, 0, 7, 6, 4, 3, 1]\n",
            "Number of Conflicts: 2\n",
            "An approximate solution was found with some conflicts.\n",
            "name : amrutha ravisanna\n",
            "USN: 1BM22CS036\n"
          ]
        }
      ],
      "source": [
        "import random\n",
        "import math\n",
        "\n",
        "\n",
        "N = 8\n",
        "\n",
        "\n",
        "def random_state():\n",
        "\n",
        "    return [random.randint(0, N - 1) for _ in range(N)]\n",
        "\n",
        "\n",
        "def cost(state):\n",
        "    conflicts = 0\n",
        "    for i in range(N):\n",
        "        for j in range(i + 1, N):\n",
        "\n",
        "            if state[i] == state[j] or abs(state[i] - state[j]) == abs(i - j):\n",
        "                conflicts += 1\n",
        "    return conflicts\n",
        "\n",
        "\n",
        "def generate_neighbor(state):\n",
        "    neighbor = state[:]\n",
        "    col = random.randint(0, N - 1)\n",
        "    new_row = random.randint(0, N - 1)\n",
        "\n",
        "    while new_row == neighbor[col]:\n",
        "        new_row = random.randint(0, N - 1)\n",
        "    neighbor[col] = new_row\n",
        "    return neighbor\n",
        "\n",
        "\n",
        "def simulated_annealing():\n",
        "    current_state = random_state()\n",
        "    current_cost = cost(current_state)\n",
        "    temperature = 100.0\n",
        "    cooling_rate = 0.95\n",
        "    min_temperature = 0.1\n",
        "\n",
        "    while temperature > min_temperature and current_cost > 0:\n",
        "        next_state = generate_neighbor(current_state)\n",
        "        next_cost = cost(next_state)\n",
        "        delta_cost = next_cost - current_cost\n",
        "\n",
        "\n",
        "        if delta_cost < 0:\n",
        "\n",
        "            current_state = next_state\n",
        "            current_cost = next_cost\n",
        "        else:\n",
        "\n",
        "            probability = math.exp(-delta_cost / temperature)\n",
        "            if random.random() < probability:\n",
        "                current_state = next_state\n",
        "                current_cost = next_cost\n",
        "\n",
        "        temperature *= cooling_rate\n",
        "\n",
        "    return current_state, current_cost\n",
        "\n",
        "\n",
        "solution, final_cost = simulated_annealing()\n",
        "\n",
        "\n",
        "print(\"Final State (Positions of Queens in each column):\", solution)\n",
        "print(\"Number of Conflicts:\", final_cost)\n",
        "if final_cost == 0:\n",
        "    print(\"A solution to the 8-Queens problem was found!\")\n",
        "else:\n",
        "    print(\"An approximate solution was found with some conflicts.\")\n",
        "print(\"name : amrutha ravisanna\")\n",
        "print(\"USN: 1BM22CS036\")"
      ]
    }
  ]
}