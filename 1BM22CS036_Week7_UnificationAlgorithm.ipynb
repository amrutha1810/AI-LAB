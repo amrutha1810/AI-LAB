{
  "nbformat": 4,
  "nbformat_minor": 0,
  "metadata": {
    "colab": {
      "provenance": [],
      "authorship_tag": "ABX9TyOaDc8/DLaEvN3N+owaqXks",
      "include_colab_link": true
    },
    "kernelspec": {
      "name": "python3",
      "display_name": "Python 3"
    },
    "language_info": {
      "name": "python"
    }
  },
  "cells": [
    {
      "cell_type": "markdown",
      "metadata": {
        "id": "view-in-github",
        "colab_type": "text"
      },
      "source": [
        "<a href=\"https://colab.research.google.com/github/amrutha1810/AI-LAB/blob/main/1BM22CS036_Week7_UnificationAlgorithm.ipynb\" target=\"_parent\"><img src=\"https://colab.research.google.com/assets/colab-badge.svg\" alt=\"Open In Colab\"/></a>"
      ]
    },
    {
      "cell_type": "code",
      "source": [
        "def is_variable(term):\n",
        "\n",
        "    return isinstance(term, str) and term.islower()\n",
        "\n",
        "def unify(x, y, substitution={}):\n",
        "\n",
        "    print(f\"Unifying: {x} and {y}\")\n",
        "\n",
        "    if substitution is None:\n",
        "        return None\n",
        "\n",
        "    if x == y:\n",
        "        print(f\"Terms are identical, no change: {x}\")\n",
        "        return substitution\n",
        "\n",
        "\n",
        "    if is_variable(x):\n",
        "        print(f\"Term {x} is a variable. Unifying variable with {y}\")\n",
        "        return unify_var(x, y, substitution)\n",
        "\n",
        "\n",
        "    if is_variable(y):\n",
        "        print(f\"Term {y} is a variable. Unifying variable with {x}\")\n",
        "        return unify_var(y, x, substitution)\n",
        "\n",
        "\n",
        "    if isinstance(x, tuple) and isinstance(y, tuple):\n",
        "        print(f\"Both terms are compound. Unifying their components.\")\n",
        "        return unify(x[1:], y[1:], unify(x[0], y[0], substitution))\n",
        "\n",
        "\n",
        "    print(f\"Cannot unify {x} and {y} — they don't match\")\n",
        "    return None\n",
        "\n",
        "def unify_var(var, term, substitution):\n",
        "    \"\"\"Handle unification of variables.\"\"\"\n",
        "    if var in substitution:\n",
        "        print(f\"Variable {var} already substituted as {substitution[var]}. Unifying with {term}\")\n",
        "        return unify(substitution[var], term, substitution)\n",
        "\n",
        "\n",
        "    if term == var:\n",
        "        print(f\"Cannot unify {var} with itself\")\n",
        "        return None\n",
        "\n",
        "    print(f\"Substituting {var} with {term}\")\n",
        "    substitution[var] = term\n",
        "    print(f\"Current substitution: {substitution}\")\n",
        "    return substitution\n",
        "\n",
        "\n",
        "expr1 = ('Eats', 'x', 'Apple')\n",
        "expr2 = ('Eats', 'Riya', 'y')\n",
        "\n",
        "\n",
        "substitution = unify(expr1, expr2)\n",
        "print(\"\\nFinal substitution:\", substitution)\n",
        "print(\"name : amrutha ravisanna\")\n",
        "print(\"USN: 1BM22CS036\")\n",
        "\n"
      ],
      "metadata": {
        "colab": {
          "base_uri": "https://localhost:8080/"
        },
        "id": "HV3taicqdnu8",
        "outputId": "470909bf-c17b-4cdc-d978-16e2a7bb541b"
      },
      "execution_count": 5,
      "outputs": [
        {
          "output_type": "stream",
          "name": "stdout",
          "text": [
            "Unifying: ('Eats', 'x', 'Apple') and ('Eats', 'Riya', 'y')\n",
            "Both terms are compound. Unifying their components.\n",
            "Unifying: Eats and Eats\n",
            "Terms are identical, no change: Eats\n",
            "Unifying: ('x', 'Apple') and ('Riya', 'y')\n",
            "Both terms are compound. Unifying their components.\n",
            "Unifying: x and Riya\n",
            "Term x is a variable. Unifying variable with Riya\n",
            "Substituting x with Riya\n",
            "Current substitution: {'x': 'Riya'}\n",
            "Unifying: ('Apple',) and ('y',)\n",
            "Both terms are compound. Unifying their components.\n",
            "Unifying: Apple and y\n",
            "Term y is a variable. Unifying variable with Apple\n",
            "Substituting y with Apple\n",
            "Current substitution: {'x': 'Riya', 'y': 'Apple'}\n",
            "Unifying: () and ()\n",
            "Terms are identical, no change: ()\n",
            "\n",
            "Final substitution: {'x': 'Riya', 'y': 'Apple'}\n",
            "name : amrutha ravisanna\n",
            "USN: 1BM22CS036\n"
          ]
        }
      ]
    }
  ]
}