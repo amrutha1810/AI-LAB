{
  "nbformat": 4,
  "nbformat_minor": 0,
  "metadata": {
    "colab": {
      "provenance": [],
      "authorship_tag": "ABX9TyMRhOYmjJI/yuigm4mAMJpi",
      "include_colab_link": true
    },
    "kernelspec": {
      "name": "python3",
      "display_name": "Python 3"
    },
    "language_info": {
      "name": "python"
    }
  },
  "cells": [
    {
      "cell_type": "markdown",
      "metadata": {
        "id": "view-in-github",
        "colab_type": "text"
      },
      "source": [
        "<a href=\"https://colab.research.google.com/github/amrutha1810/AI-LAB/blob/main/1BM22CS036_Week9_Proof_by_resolution.ipynb\" target=\"_parent\"><img src=\"https://colab.research.google.com/assets/colab-badge.svg\" alt=\"Open In Colab\"/></a>"
      ]
    },
    {
      "cell_type": "code",
      "execution_count": 3,
      "metadata": {
        "colab": {
          "base_uri": "https://localhost:8080/"
        },
        "id": "4XnLxoYVv6u8",
        "outputId": "9d83127b-f63a-450c-aece-f0a48eea8c69"
      },
      "outputs": [
        {
          "output_type": "stream",
          "name": "stdout",
          "text": [
            "PROVED\n",
            "\n",
            "Proof Tree:\n",
            "Step 1: {'R', 'Q'} from [0, 1]\n",
            "Step 2: {'P'} from [0, 3]\n",
            "Step 3: {'~P'} from [1, 2]\n",
            "Step 4: {'Q'} from [0, 6]\n",
            "Step 5: {'R'} from [1, 5]\n",
            "Step 6: set() from [5, 6]\n",
            "name : amrutha ravisanna\n",
            "USN: 1BM22CS036\n"
          ]
        }
      ],
      "source": [
        "from typing import List, Tuple\n",
        "\n",
        "def is_complementary(clause1: set, clause2: set) -> Tuple[bool, set]:\n",
        "\n",
        "    for literal in clause1:\n",
        "        if f\"~{literal}\" in clause2:\n",
        "            resolved = clause1.union(clause2)\n",
        "            resolved.discard(literal)\n",
        "            resolved.discard(f\"~{literal}\")\n",
        "            return True, resolved\n",
        "        elif literal.startswith(\"~\") and literal[1:] in clause2:\n",
        "            resolved = clause1.union(clause2)\n",
        "            resolved.discard(literal)\n",
        "            resolved.discard(literal[1:])\n",
        "            return True, resolved\n",
        "    return False, set()\n",
        "\n",
        "def resolution(kb: List[set], goal: set) -> Tuple[bool, List[Tuple[set, List[int]]]]:\n",
        "\n",
        "    proof_tree = []\n",
        "    clauses = kb + [goal]\n",
        "    new_clauses = []\n",
        "\n",
        "    while True:\n",
        "\n",
        "        pairs = [(clauses[i], clauses[j], (i, j)) for i in range(len(clauses)) for j in range(i + 1, len(clauses))]\n",
        "\n",
        "        for clause1, clause2, (i, j) in pairs:\n",
        "            complementary, resolved_clause = is_complementary(clause1, clause2)\n",
        "            if complementary:\n",
        "                if not resolved_clause:\n",
        "                    proof_tree.append((resolved_clause, [i, j]))\n",
        "                    return True, proof_tree\n",
        "                if resolved_clause not in clauses and resolved_clause not in new_clauses:\n",
        "                    new_clauses.append(resolved_clause)\n",
        "                    proof_tree.append((resolved_clause, [i, j]))\n",
        "\n",
        "        if not new_clauses:\n",
        "            return False, proof_tree\n",
        "\n",
        "        clauses.extend(new_clauses)\n",
        "        new_clauses = []\n",
        "\n",
        "\n",
        "if __name__ == \"__main__\":\n",
        "\n",
        "    kb = [\n",
        "        {\"P\", \"Q\"},\n",
        "        {\"~P\", \"R\"},\n",
        "        {\"~R\"},\n",
        "    ]\n",
        "    goal = {\"~Q\"}\n",
        "\n",
        "    success, proof_tree = resolution(kb, goal)\n",
        "    if success:\n",
        "        print(\"PROVED\")\n",
        "    else:\n",
        "        print(\"CAN'T BE PROVED\")\n",
        "\n",
        "    print(\"\\nProof Tree:\")\n",
        "    for i, (clause, parents) in enumerate(proof_tree):\n",
        "        print(f\"Step {i + 1}: {clause} from {parents}\")\n",
        "\n",
        "print(\"name : amrutha ravisanna\")\n",
        "print(\"USN: 1BM22CS036\")"
      ]
    }
  ]
}